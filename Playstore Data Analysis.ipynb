{
 "cells": [
  {
   "cell_type": "markdown",
   "metadata": {
    "application/vnd.databricks.v1+cell": {
     "cellMetadata": {
      "byteLimit": 2048000,
      "rowLimit": 10000
     },
     "inputWidgets": {},
     "nuid": "32566307-4829-446e-b5ad-0162e2413348",
     "showTitle": false,
     "title": ""
    }
   },
   "source": [
    "Import Libraries"
   ]
  },
  {
   "cell_type": "code",
   "execution_count": 0,
   "metadata": {
    "application/vnd.databricks.v1+cell": {
     "cellMetadata": {
      "byteLimit": 2048000,
      "rowLimit": 10000
     },
     "inputWidgets": {},
     "nuid": "3fde932f-76e0-4fac-b495-1adab8d4361a",
     "showTitle": false,
     "title": ""
    }
   },
   "outputs": [],
   "source": [
    "import pyspark\n",
    "from pyspark.sql import SparkSession\n",
    "from pyspark.sql.types import StructType, StructField, StringType, IntegerType, FloatType\n",
    "from pyspark.sql.functions import *"
   ]
  },
  {
   "cell_type": "markdown",
   "metadata": {
    "application/vnd.databricks.v1+cell": {
     "cellMetadata": {
      "byteLimit": 2048000,
      "rowLimit": 10000
     },
     "inputWidgets": {},
     "nuid": "59e4e226-25cf-4973-b3ee-de39f7b5c19a",
     "showTitle": false,
     "title": ""
    }
   },
   "source": [
    "Create DataFrame"
   ]
  },
  {
   "cell_type": "code",
   "execution_count": 0,
   "metadata": {
    "application/vnd.databricks.v1+cell": {
     "cellMetadata": {
      "byteLimit": 2048000,
      "rowLimit": 10000
     },
     "inputWidgets": {},
     "nuid": "1306e45b-88db-440a-8b70-8720e2cf17e6",
     "showTitle": false,
     "title": ""
    }
   },
   "outputs": [
    {
     "output_type": "stream",
     "name": "stdout",
     "output_type": "stream",
     "text": [
      "+--------------------+--------------+------+-------+----+----------+----+-----+--------------+--------------------+----------------+-----------+------------+\n|                 App|      Category|Rating|Reviews|Size|  Installs|Type|Price|Content Rating|              Genres|    Last Updated|Current Ver| Android Ver|\n+--------------------+--------------+------+-------+----+----------+----+-----+--------------+--------------------+----------------+-----------+------------+\n|Photo Editor & Ca...|ART_AND_DESIGN|   4.1|    159| 19M|   10,000+|Free|    0|      Everyone|        Art & Design| January 7, 2018|      1.0.0|4.0.3 and up|\n| Coloring book moana|ART_AND_DESIGN|   3.9|    967| 14M|  500,000+|Free|    0|      Everyone|Art & Design;Pret...|January 15, 2018|      2.0.0|4.0.3 and up|\n|U Launcher Lite –...|ART_AND_DESIGN|   4.7|  87510|8.7M|5,000,000+|Free|    0|      Everyone|        Art & Design|  August 1, 2018|      1.2.4|4.0.3 and up|\n+--------------------+--------------+------+-------+----+----------+----+-----+--------------+--------------------+----------------+-----------+------------+\nonly showing top 3 rows\n\n"
     ]
    }
   ],
   "source": [
    "df = spark.read.load('/FileStore/tables/googleplaystore.csv',\n",
    "                     format='csv',\n",
    "                     header='true',\n",
    "                     inferschema='true',\n",
    "                     )\n",
    "df.show(3)"
   ]
  },
  {
   "cell_type": "code",
   "execution_count": 0,
   "metadata": {
    "application/vnd.databricks.v1+cell": {
     "cellMetadata": {
      "byteLimit": 2048000,
      "rowLimit": 10000
     },
     "inputWidgets": {},
     "nuid": "1e16eb56-1d00-48db-a42f-b813e1835394",
     "showTitle": false,
     "title": ""
    }
   },
   "outputs": [
    {
     "output_type": "stream",
     "name": "stdout",
     "output_type": "stream",
     "text": [
      "root\n |-- App: string (nullable = true)\n |-- Category: string (nullable = true)\n |-- Rating: string (nullable = true)\n |-- Reviews: string (nullable = true)\n |-- Size: string (nullable = true)\n |-- Installs: string (nullable = true)\n |-- Type: string (nullable = true)\n |-- Price: string (nullable = true)\n |-- Content Rating: string (nullable = true)\n |-- Genres: string (nullable = true)\n |-- Last Updated: string (nullable = true)\n |-- Current Ver: string (nullable = true)\n |-- Android Ver: string (nullable = true)\n\n"
     ]
    }
   ],
   "source": [
    "df.printSchema()"
   ]
  },
  {
   "cell_type": "markdown",
   "metadata": {
    "application/vnd.databricks.v1+cell": {
     "cellMetadata": {
      "byteLimit": 2048000,
      "rowLimit": 10000
     },
     "inputWidgets": {},
     "nuid": "5d62d16a-77d9-43f9-96f1-5b620e3ace58",
     "showTitle": false,
     "title": ""
    }
   },
   "source": [
    "Data Cleaning"
   ]
  },
  {
   "cell_type": "code",
   "execution_count": 0,
   "metadata": {
    "application/vnd.databricks.v1+cell": {
     "cellMetadata": {
      "byteLimit": 2048000,
      "rowLimit": 10000
     },
     "inputWidgets": {},
     "nuid": "a9004bea-8825-4586-8740-f31daf8f5ab5",
     "showTitle": false,
     "title": ""
    }
   },
   "outputs": [
    {
     "output_type": "stream",
     "name": "stdout",
     "output_type": "stream",
     "text": [
      "+--------------------+--------------+------+-------+----+--------+----+-----+--------------+------------+------------+-----------+------------+\n|                 App|      Category|Rating|Reviews|Size|Installs|Type|Price|Content_Rating|      Genres|Last_Updated|Current Ver| Android Ver|\n+--------------------+--------------+------+-------+----+--------+----+-----+--------------+------------+------------+-----------+------------+\n|Photo Editor & Ca...|ART_AND_DESIGN|   4.1|    159| 19M|   10000|Free|    0|      Everyone|Art & Design|  07/01/2018|      1.0.0|4.0.3 and up|\n| Coloring book moana|ART_AND_DESIGN|   3.9|    967| 14M|  500000|Free|    0|      Everyone|Art & Design|  15/01/2018|      2.0.0|4.0.3 and up|\n+--------------------+--------------+------+-------+----+--------+----+-----+--------------+------------+------------+-----------+------------+\nonly showing top 2 rows\n\nroot\n |-- App: string (nullable = true)\n |-- Category: string (nullable = true)\n |-- Rating: float (nullable = true)\n |-- Reviews: integer (nullable = true)\n |-- Size: string (nullable = true)\n |-- Installs: integer (nullable = true)\n |-- Type: string (nullable = true)\n |-- Price: integer (nullable = true)\n |-- Content_Rating: string (nullable = true)\n |-- Genres: string (nullable = true)\n |-- Last_Updated: string (nullable = true)\n |-- Current Ver: string (nullable = true)\n |-- Android Ver: string (nullable = true)\n\n"
     ]
    }
   ],
   "source": [
    "df = df.withColumn('Reviews', col('Reviews').cast(IntegerType()))\\\n",
    "      .withColumn('Installs', regexp_replace(col('Installs'), '[^0-9]', ''))\\\n",
    "      .withColumn('Installs', col('Installs').cast(IntegerType()))\\\n",
    "      .withColumn('Price', regexp_replace(col('Price'), '[$]', ''))\\\n",
    "      .withColumn('Price', col('Price').cast(IntegerType()))\\\n",
    "      .withColumn('Last Updated', date_format(to_date(\"Last Updated\", \"MMMM d, yyyy\"), \"dd/MM/yyyy\"))\\\n",
    "      .withColumn('Rating', col('Rating').cast(FloatType()))\\\n",
    "      .withColumn('Type', regexp_replace(col('Type'), '[^Free|Paid]', ''))\\\n",
    "      .withColumn('Genres', regexp_replace(col('Genres'), ';(.*)', ''))\\\n",
    "      .withColumnRenamed('Content Rating', 'Content_Rating')\\\n",
    "      .withColumnRenamed('Last Updated', 'Last_Updated')\\\n",
    "\n",
    "df.show(2)\n",
    "df.printSchema()\n"
   ]
  },
  {
   "cell_type": "code",
   "execution_count": 0,
   "metadata": {
    "application/vnd.databricks.v1+cell": {
     "cellMetadata": {
      "byteLimit": 2048000,
      "rowLimit": 10000
     },
     "inputWidgets": {},
     "nuid": "98bc8d7b-2f8c-4f5b-8b7e-0f1bfd8011d1",
     "showTitle": false,
     "title": ""
    }
   },
   "outputs": [
    {
     "output_type": "stream",
     "name": "stdout",
     "output_type": "stream",
     "text": [
      "+--------------------+--------------+------+-------+----+--------+----+-----+--------------+------------+------------+\n|                 App|      Category|Rating|Reviews|Size|Installs|Type|Price|Content_Rating|      Genres|Last_Updated|\n+--------------------+--------------+------+-------+----+--------+----+-----+--------------+------------+------------+\n|Photo Editor & Ca...|ART_AND_DESIGN|   4.1|    159| 19M|   10000|Free|    0|      Everyone|Art & Design|  07/01/2018|\n| Coloring book moana|ART_AND_DESIGN|   3.9|    967| 14M|  500000|Free|    0|      Everyone|Art & Design|  15/01/2018|\n|U Launcher Lite –...|ART_AND_DESIGN|   4.7|  87510|8.7M| 5000000|Free|    0|      Everyone|Art & Design|  01/08/2018|\n|Sketch - Draw & P...|ART_AND_DESIGN|   4.5| 215644| 25M|50000000|Free|    0|          Teen|Art & Design|  08/06/2018|\n|Pixel Draw - Numb...|ART_AND_DESIGN|   4.3|    967|2.8M|  100000|Free|    0|      Everyone|Art & Design|  20/06/2018|\n|Paper flowers ins...|ART_AND_DESIGN|   4.4|    167|5.6M|   50000|Free|    0|      Everyone|Art & Design|  26/03/2017|\n|Smoke Effect Phot...|ART_AND_DESIGN|   3.8|    178| 19M|   50000|Free|    0|      Everyone|Art & Design|  26/04/2018|\n|    Infinite Painter|ART_AND_DESIGN|   4.1|  36815| 29M| 1000000|Free|    0|      Everyone|Art & Design|  14/06/2018|\n|Garden Coloring Book|ART_AND_DESIGN|   4.4|  13791| 33M| 1000000|Free|    0|      Everyone|Art & Design|  20/09/2017|\n|Kids Paint Free -...|ART_AND_DESIGN|   4.7|    121|3.1M|   10000|Free|    0|      Everyone|Art & Design|  03/07/2018|\n+--------------------+--------------+------+-------+----+--------+----+-----+--------------+------------+------------+\nonly showing top 10 rows\n\n"
     ]
    }
   ],
   "source": [
    "df = df.drop('Current Ver', 'Android Ver')\n",
    "df = df.dropna()\n",
    "df.show(10)"
   ]
  },
  {
   "cell_type": "markdown",
   "metadata": {
    "application/vnd.databricks.v1+cell": {
     "cellMetadata": {
      "byteLimit": 2048000,
      "rowLimit": 10000
     },
     "inputWidgets": {},
     "nuid": "7f6c66e8-fc65-490c-b43c-aff907e07c5f",
     "showTitle": false,
     "title": ""
    }
   },
   "source": [
    "Convert to View for Analysis of Data using SQL"
   ]
  },
  {
   "cell_type": "code",
   "execution_count": 0,
   "metadata": {
    "application/vnd.databricks.v1+cell": {
     "cellMetadata": {
      "byteLimit": 2048000,
      "rowLimit": 10000
     },
     "collapsed": true,
     "inputWidgets": {},
     "nuid": "2ff51387-55f0-4912-8f37-25892c854faa",
     "showTitle": false,
     "title": ""
    }
   },
   "outputs": [],
   "source": [
    "df.createOrReplaceTempView('Apps')"
   ]
  },
  {
   "cell_type": "code",
   "execution_count": 0,
   "metadata": {
    "application/vnd.databricks.v1+cell": {
     "cellMetadata": {
      "byteLimit": 2048000,
      "implicitDf": true,
      "rowLimit": 10000
     },
     "inputWidgets": {},
     "nuid": "2d8dac97-2054-4606-9eb6-c2eb4dceb066",
     "showTitle": false,
     "title": ""
    }
   },
   "outputs": [
    {
     "output_type": "display_data",
     "data": {
      "text/html": [
       "<style scoped>\n",
       "  .table-result-container {\n",
       "    max-height: 300px;\n",
       "    overflow: auto;\n",
       "  }\n",
       "  table, th, td {\n",
       "    border: 1px solid black;\n",
       "    border-collapse: collapse;\n",
       "  }\n",
       "  th, td {\n",
       "    padding: 5px;\n",
       "  }\n",
       "  th {\n",
       "    text-align: left;\n",
       "  }\n",
       "</style><div class='table-result-container'><table class='table-result'><thead style='background-color: white'><tr><th>App</th><th>Category</th><th>Rating</th><th>Reviews</th><th>Size</th><th>Installs</th><th>Type</th><th>Price</th><th>Content_Rating</th><th>Genres</th><th>Last_Updated</th></tr></thead><tbody><tr><td>Photo Editor & Candy Camera & Grid & ScrapBook</td><td>ART_AND_DESIGN</td><td>4.1</td><td>159</td><td>19M</td><td>10000</td><td>Free</td><td>0</td><td>Everyone</td><td>Art & Design</td><td>07/01/2018</td></tr><tr><td>Coloring book moana</td><td>ART_AND_DESIGN</td><td>3.9</td><td>967</td><td>14M</td><td>500000</td><td>Free</td><td>0</td><td>Everyone</td><td>Art & Design</td><td>15/01/2018</td></tr><tr><td>U Launcher Lite – FREE Live Cool Themes, Hide Apps</td><td>ART_AND_DESIGN</td><td>4.7</td><td>87510</td><td>8.7M</td><td>5000000</td><td>Free</td><td>0</td><td>Everyone</td><td>Art & Design</td><td>01/08/2018</td></tr><tr><td>Sketch - Draw & Paint</td><td>ART_AND_DESIGN</td><td>4.5</td><td>215644</td><td>25M</td><td>50000000</td><td>Free</td><td>0</td><td>Teen</td><td>Art & Design</td><td>08/06/2018</td></tr><tr><td>Pixel Draw - Number Art Coloring Book</td><td>ART_AND_DESIGN</td><td>4.3</td><td>967</td><td>2.8M</td><td>100000</td><td>Free</td><td>0</td><td>Everyone</td><td>Art & Design</td><td>20/06/2018</td></tr><tr><td>Paper flowers instructions</td><td>ART_AND_DESIGN</td><td>4.4</td><td>167</td><td>5.6M</td><td>50000</td><td>Free</td><td>0</td><td>Everyone</td><td>Art & Design</td><td>26/03/2017</td></tr><tr><td>Smoke Effect Photo Maker - Smoke Editor</td><td>ART_AND_DESIGN</td><td>3.8</td><td>178</td><td>19M</td><td>50000</td><td>Free</td><td>0</td><td>Everyone</td><td>Art & Design</td><td>26/04/2018</td></tr><tr><td>Infinite Painter</td><td>ART_AND_DESIGN</td><td>4.1</td><td>36815</td><td>29M</td><td>1000000</td><td>Free</td><td>0</td><td>Everyone</td><td>Art & Design</td><td>14/06/2018</td></tr><tr><td>Garden Coloring Book</td><td>ART_AND_DESIGN</td><td>4.4</td><td>13791</td><td>33M</td><td>1000000</td><td>Free</td><td>0</td><td>Everyone</td><td>Art & Design</td><td>20/09/2017</td></tr><tr><td>Kids Paint Free - Drawing Fun</td><td>ART_AND_DESIGN</td><td>4.7</td><td>121</td><td>3.1M</td><td>10000</td><td>Free</td><td>0</td><td>Everyone</td><td>Art & Design</td><td>03/07/2018</td></tr></tbody></table></div>"
      ]
     },
     "metadata": {
      "application/vnd.databricks.v1+output": {
       "addedWidgets": {},
       "aggData": [],
       "aggError": "",
       "aggOverflow": false,
       "aggSchema": [],
       "aggSeriesLimitReached": false,
       "aggType": "",
       "arguments": {},
       "columnCustomDisplayInfos": {},
       "data": [
        [
         "Photo Editor & Candy Camera & Grid & ScrapBook",
         "ART_AND_DESIGN",
         4.1,
         159,
         "19M",
         10000,
         "Free",
         0,
         "Everyone",
         "Art & Design",
         "07/01/2018"
        ],
        [
         "Coloring book moana",
         "ART_AND_DESIGN",
         3.9,
         967,
         "14M",
         500000,
         "Free",
         0,
         "Everyone",
         "Art & Design",
         "15/01/2018"
        ],
        [
         "U Launcher Lite – FREE Live Cool Themes, Hide Apps",
         "ART_AND_DESIGN",
         4.7,
         87510,
         "8.7M",
         5000000,
         "Free",
         0,
         "Everyone",
         "Art & Design",
         "01/08/2018"
        ],
        [
         "Sketch - Draw & Paint",
         "ART_AND_DESIGN",
         4.5,
         215644,
         "25M",
         50000000,
         "Free",
         0,
         "Teen",
         "Art & Design",
         "08/06/2018"
        ],
        [
         "Pixel Draw - Number Art Coloring Book",
         "ART_AND_DESIGN",
         4.3,
         967,
         "2.8M",
         100000,
         "Free",
         0,
         "Everyone",
         "Art & Design",
         "20/06/2018"
        ],
        [
         "Paper flowers instructions",
         "ART_AND_DESIGN",
         4.4,
         167,
         "5.6M",
         50000,
         "Free",
         0,
         "Everyone",
         "Art & Design",
         "26/03/2017"
        ],
        [
         "Smoke Effect Photo Maker - Smoke Editor",
         "ART_AND_DESIGN",
         3.8,
         178,
         "19M",
         50000,
         "Free",
         0,
         "Everyone",
         "Art & Design",
         "26/04/2018"
        ],
        [
         "Infinite Painter",
         "ART_AND_DESIGN",
         4.1,
         36815,
         "29M",
         1000000,
         "Free",
         0,
         "Everyone",
         "Art & Design",
         "14/06/2018"
        ],
        [
         "Garden Coloring Book",
         "ART_AND_DESIGN",
         4.4,
         13791,
         "33M",
         1000000,
         "Free",
         0,
         "Everyone",
         "Art & Design",
         "20/09/2017"
        ],
        [
         "Kids Paint Free - Drawing Fun",
         "ART_AND_DESIGN",
         4.7,
         121,
         "3.1M",
         10000,
         "Free",
         0,
         "Everyone",
         "Art & Design",
         "03/07/2018"
        ]
       ],
       "datasetInfos": [],
       "dbfsResultPath": null,
       "isJsonSchema": true,
       "metadata": {},
       "overflow": false,
       "plotOptions": {
        "customPlotOptions": {},
        "displayType": "table",
        "pivotAggregation": null,
        "pivotColumns": null,
        "xColumns": null,
        "yColumns": null
       },
       "removedWidgets": [],
       "schema": [
        {
         "metadata": "{}",
         "name": "App",
         "type": "\"string\""
        },
        {
         "metadata": "{}",
         "name": "Category",
         "type": "\"string\""
        },
        {
         "metadata": "{}",
         "name": "Rating",
         "type": "\"float\""
        },
        {
         "metadata": "{}",
         "name": "Reviews",
         "type": "\"integer\""
        },
        {
         "metadata": "{}",
         "name": "Size",
         "type": "\"string\""
        },
        {
         "metadata": "{}",
         "name": "Installs",
         "type": "\"integer\""
        },
        {
         "metadata": "{}",
         "name": "Type",
         "type": "\"string\""
        },
        {
         "metadata": "{}",
         "name": "Price",
         "type": "\"integer\""
        },
        {
         "metadata": "{}",
         "name": "Content_Rating",
         "type": "\"string\""
        },
        {
         "metadata": "{}",
         "name": "Genres",
         "type": "\"string\""
        },
        {
         "metadata": "{}",
         "name": "Last_Updated",
         "type": "\"string\""
        }
       ],
       "type": "table"
      }
     },
     "output_type": "display_data"
    }
   ],
   "source": [
    "%sql\n",
    "select * from apps limit 10"
   ]
  },
  {
   "cell_type": "markdown",
   "metadata": {
    "application/vnd.databricks.v1+cell": {
     "cellMetadata": {
      "byteLimit": 2048000,
      "rowLimit": 10000
     },
     "inputWidgets": {},
     "nuid": "aca24ba2-d144-400d-a926-de7064b9ae1e",
     "showTitle": false,
     "title": ""
    }
   },
   "source": [
    "Top 10 Apps based on number of Reviews"
   ]
  },
  {
   "cell_type": "code",
   "execution_count": 0,
   "metadata": {
    "application/vnd.databricks.v1+cell": {
     "cellMetadata": {
      "byteLimit": 2048000,
      "implicitDf": true,
      "rowLimit": 10000
     },
     "inputWidgets": {},
     "nuid": "e638479e-7f91-4a75-b380-1062aad695bb",
     "showTitle": false,
     "title": ""
    }
   },
   "outputs": [
    {
     "output_type": "display_data",
     "data": {
      "text/html": [
       "<style scoped>\n",
       "  .table-result-container {\n",
       "    max-height: 300px;\n",
       "    overflow: auto;\n",
       "  }\n",
       "  table, th, td {\n",
       "    border: 1px solid black;\n",
       "    border-collapse: collapse;\n",
       "  }\n",
       "  th, td {\n",
       "    padding: 5px;\n",
       "  }\n",
       "  th {\n",
       "    text-align: left;\n",
       "  }\n",
       "</style><div class='table-result-container'><table class='table-result'><thead style='background-color: white'><tr><th>App</th><th>Total_Reviews</th></tr></thead><tbody><tr><td>Facebook</td><td>78158306</td></tr><tr><td>WhatsApp Messenger</td><td>69119316</td></tr><tr><td>Instagram</td><td>66577446</td></tr><tr><td>Messenger – Text and Video Chat for Free</td><td>56646578</td></tr><tr><td>Clash of Clans</td><td>44893888</td></tr><tr><td>Clean Master- Space Cleaner & Antivirus</td><td>42916526</td></tr><tr><td>Subway Surfers</td><td>27725352</td></tr><tr><td>YouTube</td><td>25655305</td></tr><tr><td>Security Master - Antivirus, VPN, AppLock, Booster</td><td>24900999</td></tr><tr><td>Clash Royale</td><td>23136735</td></tr></tbody></table></div>"
      ]
     },
     "metadata": {
      "application/vnd.databricks.v1+output": {
       "addedWidgets": {},
       "aggData": [],
       "aggError": "",
       "aggOverflow": false,
       "aggSchema": [],
       "aggSeriesLimitReached": false,
       "aggType": "",
       "arguments": {},
       "columnCustomDisplayInfos": {},
       "data": [
        [
         "Facebook",
         78158306
        ],
        [
         "WhatsApp Messenger",
         69119316
        ],
        [
         "Instagram",
         66577446
        ],
        [
         "Messenger – Text and Video Chat for Free",
         56646578
        ],
        [
         "Clash of Clans",
         44893888
        ],
        [
         "Clean Master- Space Cleaner & Antivirus",
         42916526
        ],
        [
         "Subway Surfers",
         27725352
        ],
        [
         "YouTube",
         25655305
        ],
        [
         "Security Master - Antivirus, VPN, AppLock, Booster",
         24900999
        ],
        [
         "Clash Royale",
         23136735
        ]
       ],
       "datasetInfos": [],
       "dbfsResultPath": null,
       "isJsonSchema": true,
       "metadata": {},
       "overflow": false,
       "plotOptions": {
        "customPlotOptions": {},
        "displayType": "table",
        "pivotAggregation": null,
        "pivotColumns": null,
        "xColumns": null,
        "yColumns": null
       },
       "removedWidgets": [],
       "schema": [
        {
         "metadata": "{}",
         "name": "App",
         "type": "\"string\""
        },
        {
         "metadata": "{}",
         "name": "Total_Reviews",
         "type": "\"integer\""
        }
       ],
       "type": "table"
      }
     },
     "output_type": "display_data"
    },
    {
     "output_type": "display_data",
     "data": {
      "text/plain": [
       "Databricks visualization. Run in Databricks to view."
      ]
     },
     "metadata": {
      "application/vnd.databricks.v1.subcommand+json": {
       "baseErrorDetails": null,
       "bindings": {},
       "collapsed": false,
       "command": "%sql WITH q AS (select distinct App, Max(Reviews) as Total_Reviews from Apps group by App order by Total_Reviews desc limit 10) SELECT `App`,SUM(`Total_Reviews`) `column_23a14b9521` FROM q GROUP BY `App`",
       "commandTitle": "Visualization 1",
       "commandType": "auto",
       "commandVersion": 0,
       "commentThread": [],
       "commentsVisible": false,
       "contentSha256Hex": null,
       "customPlotOptions": {
        "redashChart": [
         {
          "key": "type",
          "value": "CHART"
         },
         {
          "key": "options",
          "value": {
           "alignYAxesAtZero": true,
           "coefficient": 1,
           "columnConfigurationMap": {
            "x": {
             "column": "App",
             "id": "column_23a14b9520"
            },
            "y": [
             {
              "column": "Total_Reviews",
              "id": "column_23a14b9521",
              "transform": "SUM"
             }
            ]
           },
           "dateTimeFormat": "DD/MM/YYYY HH:mm",
           "direction": {
            "type": "counterclockwise"
           },
           "error_y": {
            "type": "data",
            "visible": true
           },
           "globalSeriesType": "column",
           "isAggregationOn": true,
           "legend": {
            "traceorder": "normal"
           },
           "missingValuesAsZero": false,
           "numberFormat": "0,0.[00000]",
           "percentFormat": "0[.]00%",
           "reverseX": false,
           "series": {
            "error_y": {
             "type": "data",
             "visible": true
            },
            "stacking": null
           },
           "seriesOptions": {
            "column_23a14b9521": {
             "color": "#799CFF",
             "name": "Total_Reviews",
             "type": "column",
             "yAxis": 0
            }
           },
           "showDataLabels": false,
           "sizemode": "diameter",
           "sortX": false,
           "sortY": true,
           "swappedAxes": true,
           "textFormat": "",
           "useAggregationsUi": true,
           "valuesOptions": {},
           "version": 2,
           "xAxis": {
            "labels": {
             "enabled": true
            },
            "type": "-"
           },
           "yAxis": [
            {
             "type": "-"
            },
            {
             "opposite": true,
             "type": "-"
            }
           ]
          }
         }
        ]
       },
       "datasetPreviewNameToCmdIdMap": {},
       "diffDeletes": [],
       "diffInserts": [],
       "displayType": "redashChart",
       "error": null,
       "errorDetails": null,
       "errorSummary": null,
       "errorTraceType": null,
       "finishTime": 0,
       "globalVars": {},
       "guid": "",
       "height": "auto",
       "hideCommandCode": false,
       "hideCommandResult": false,
       "iPythonMetadata": null,
       "inputWidgets": {},
       "isLockedInExamMode": false,
       "latestUser": "a user",
       "latestUserId": null,
       "listResultMetadata": null,
       "metadata": {
        "byteLimit": 2048000,
        "implicitDf": true,
        "rowLimit": 10000
       },
       "nuid": "55b03dcd-dec0-4dc9-bade-16427fee1605",
       "origId": 0,
       "parentHierarchy": [],
       "pivotAggregation": null,
       "pivotColumns": null,
       "position": 14.0,
       "resultDbfsErrorMessage": null,
       "resultDbfsStatus": "INLINED_IN_TREE",
       "results": null,
       "showCommandTitle": false,
       "startTime": 0,
       "state": "finished",
       "streamStates": {},
       "subcommandOptions": {
        "queryPlan": {
         "groups": [
          {
           "column": "App",
           "type": "column"
          }
         ],
         "selects": [
          {
           "column": "App",
           "type": "column"
          },
          {
           "alias": "column_23a14b9521",
           "args": [
            {
             "column": "Total_Reviews",
             "type": "column"
            }
           ],
           "function": "SUM",
           "type": "function"
          }
         ]
        }
       },
       "submitTime": 0,
       "subtype": "tableResultSubCmd.visualization",
       "tableResultIndex": 0,
       "useConsistentColors": false,
       "version": "CommandV1",
       "width": "auto",
       "workflows": [],
       "xColumns": null,
       "yColumns": null
      }
     },
     "output_type": "display_data"
    }
   ],
   "source": [
    "%sql\n",
    "select distinct App, Max(Reviews) as Total_Reviews from Apps group by App order by Total_Reviews desc limit 10"
   ]
  },
  {
   "cell_type": "markdown",
   "metadata": {
    "application/vnd.databricks.v1+cell": {
     "cellMetadata": {
      "byteLimit": 2048000,
      "rowLimit": 10000
     },
     "inputWidgets": {},
     "nuid": "dd9c1f34-ba0d-4a84-ac81-bd887f157f06",
     "showTitle": false,
     "title": ""
    }
   },
   "source": [
    "Top 10 Apps based on number of Installs"
   ]
  },
  {
   "cell_type": "code",
   "execution_count": 0,
   "metadata": {
    "application/vnd.databricks.v1+cell": {
     "cellMetadata": {
      "byteLimit": 2048000,
      "implicitDf": true,
      "rowLimit": 10000
     },
     "inputWidgets": {},
     "nuid": "49e5d9c3-e2d2-4157-853f-a66b464cd681",
     "showTitle": false,
     "title": ""
    }
   },
   "outputs": [
    {
     "output_type": "display_data",
     "data": {
      "text/html": [
       "<style scoped>\n",
       "  .table-result-container {\n",
       "    max-height: 300px;\n",
       "    overflow: auto;\n",
       "  }\n",
       "  table, th, td {\n",
       "    border: 1px solid black;\n",
       "    border-collapse: collapse;\n",
       "  }\n",
       "  th, td {\n",
       "    padding: 5px;\n",
       "  }\n",
       "  th {\n",
       "    text-align: left;\n",
       "  }\n",
       "</style><div class='table-result-container'><table class='table-result'><thead style='background-color: white'><tr><th>App</th><th>Installs</th></tr></thead><tbody><tr><td>Google Street View</td><td>1000000000</td></tr><tr><td>Facebook</td><td>1000000000</td></tr><tr><td>Google Play Games</td><td>1000000000</td></tr><tr><td>Google Drive</td><td>1000000000</td></tr><tr><td>Messenger – Text and Video Chat for Free</td><td>1000000000</td></tr><tr><td>Skype - free IM & video calls</td><td>1000000000</td></tr><tr><td>Google News</td><td>1000000000</td></tr><tr><td>Gmail</td><td>1000000000</td></tr><tr><td>Google</td><td>1000000000</td></tr><tr><td>Google Chrome: Fast & Secure</td><td>1000000000</td></tr></tbody></table></div>"
      ]
     },
     "metadata": {
      "application/vnd.databricks.v1+output": {
       "addedWidgets": {},
       "aggData": [],
       "aggError": "",
       "aggOverflow": false,
       "aggSchema": [],
       "aggSeriesLimitReached": false,
       "aggType": "",
       "arguments": {},
       "columnCustomDisplayInfos": {},
       "data": [
        [
         "Google Street View",
         1000000000
        ],
        [
         "Facebook",
         1000000000
        ],
        [
         "Google Play Games",
         1000000000
        ],
        [
         "Google Drive",
         1000000000
        ],
        [
         "Messenger – Text and Video Chat for Free",
         1000000000
        ],
        [
         "Skype - free IM & video calls",
         1000000000
        ],
        [
         "Google News",
         1000000000
        ],
        [
         "Gmail",
         1000000000
        ],
        [
         "Google",
         1000000000
        ],
        [
         "Google Chrome: Fast & Secure",
         1000000000
        ]
       ],
       "datasetInfos": [],
       "dbfsResultPath": null,
       "isJsonSchema": true,
       "metadata": {},
       "overflow": false,
       "plotOptions": {
        "customPlotOptions": {},
        "displayType": "table",
        "pivotAggregation": null,
        "pivotColumns": null,
        "xColumns": null,
        "yColumns": null
       },
       "removedWidgets": [],
       "schema": [
        {
         "metadata": "{}",
         "name": "App",
         "type": "\"string\""
        },
        {
         "metadata": "{}",
         "name": "Installs",
         "type": "\"integer\""
        }
       ],
       "type": "table"
      }
     },
     "output_type": "display_data"
    }
   ],
   "source": [
    "%sql\n",
    "select App, Installs from Apps group by App, Installs order by Installs desc limit 10"
   ]
  },
  {
   "cell_type": "markdown",
   "metadata": {
    "application/vnd.databricks.v1+cell": {
     "cellMetadata": {
      "byteLimit": 2048000,
      "rowLimit": 10000
     },
     "inputWidgets": {},
     "nuid": "28b0e147-5989-4267-9e87-2d7815bed0a0",
     "showTitle": false,
     "title": ""
    }
   },
   "source": [
    "Number of apps in each Content_Rating"
   ]
  },
  {
   "cell_type": "code",
   "execution_count": 0,
   "metadata": {
    "application/vnd.databricks.v1+cell": {
     "cellMetadata": {
      "byteLimit": 2048000,
      "implicitDf": true,
      "rowLimit": 10000
     },
     "inputWidgets": {},
     "nuid": "deb40fd3-8820-494f-85b2-7c43bfbbf1e4",
     "showTitle": false,
     "title": ""
    }
   },
   "outputs": [
    {
     "output_type": "display_data",
     "data": {
      "text/html": [
       "<style scoped>\n",
       "  .table-result-container {\n",
       "    max-height: 300px;\n",
       "    overflow: auto;\n",
       "  }\n",
       "  table, th, td {\n",
       "    border: 1px solid black;\n",
       "    border-collapse: collapse;\n",
       "  }\n",
       "  th, td {\n",
       "    padding: 5px;\n",
       "  }\n",
       "  th {\n",
       "    text-align: left;\n",
       "  }\n",
       "</style><div class='table-result-container'><table class='table-result'><thead style='background-color: white'><tr><th>Content_Rating</th><th>count</th></tr></thead><tbody><tr><td>Adults only 18+</td><td>3</td></tr><tr><td>Everyone 10+</td><td>397</td></tr><tr><td>Mature 17+</td><td>460</td></tr><tr><td>Teen</td><td>1084</td></tr><tr><td>Everyone</td><td>7419</td></tr></tbody></table></div>"
      ]
     },
     "metadata": {
      "application/vnd.databricks.v1+output": {
       "addedWidgets": {},
       "aggData": [],
       "aggError": "",
       "aggOverflow": false,
       "aggSchema": [],
       "aggSeriesLimitReached": false,
       "aggType": "",
       "arguments": {},
       "columnCustomDisplayInfos": {},
       "data": [
        [
         "Adults only 18+",
         3
        ],
        [
         "Everyone 10+",
         397
        ],
        [
         "Mature 17+",
         460
        ],
        [
         "Teen",
         1084
        ],
        [
         "Everyone",
         7419
        ]
       ],
       "datasetInfos": [],
       "dbfsResultPath": null,
       "isJsonSchema": true,
       "metadata": {},
       "overflow": false,
       "plotOptions": {
        "customPlotOptions": {},
        "displayType": "table",
        "pivotAggregation": null,
        "pivotColumns": null,
        "xColumns": null,
        "yColumns": null
       },
       "removedWidgets": [],
       "schema": [
        {
         "metadata": "{}",
         "name": "Content_Rating",
         "type": "\"string\""
        },
        {
         "metadata": "{}",
         "name": "count",
         "type": "\"long\""
        }
       ],
       "type": "table"
      }
     },
     "output_type": "display_data"
    },
    {
     "output_type": "display_data",
     "data": {
      "text/plain": [
       "Databricks visualization. Run in Databricks to view."
      ]
     },
     "metadata": {
      "application/vnd.databricks.v1.subcommand+json": {
       "baseErrorDetails": null,
       "bindings": {},
       "collapsed": false,
       "command": "%sql WITH q AS (select distinct Content_Rating, count(Content_Rating) as count from apps group by 1 having count>2 order by count) SELECT `Content_Rating`,SUM(`count`) `column_23a14b9525` FROM q GROUP BY `Content_Rating`",
       "commandTitle": "Visualization 1",
       "commandType": "auto",
       "commandVersion": 0,
       "commentThread": [],
       "commentsVisible": false,
       "contentSha256Hex": null,
       "customPlotOptions": {
        "redashChart": [
         {
          "key": "type",
          "value": "CHART"
         },
         {
          "key": "options",
          "value": {
           "alignYAxesAtZero": true,
           "coefficient": 1,
           "columnConfigurationMap": {
            "x": {
             "column": "Content_Rating",
             "id": "column_23a14b9524"
            },
            "y": [
             {
              "column": "count",
              "id": "column_23a14b9525",
              "transform": "SUM"
             }
            ]
           },
           "dateTimeFormat": "DD/MM/YYYY HH:mm",
           "direction": {
            "type": "counterclockwise"
           },
           "error_y": {
            "type": "data",
            "visible": true
           },
           "globalSeriesType": "column",
           "isAggregationOn": true,
           "legend": {
            "traceorder": "normal"
           },
           "missingValuesAsZero": true,
           "numberFormat": "0,0.[00000]",
           "percentFormat": "0[.]00%",
           "reverseX": true,
           "series": {
            "error_y": {
             "type": "data",
             "visible": true
            },
            "stacking": null
           },
           "seriesOptions": {
            "column_23a14b9525": {
             "color": "#FF7DE3",
             "name": "count",
             "yAxis": 0
            }
           },
           "showDataLabels": false,
           "sizemode": "diameter",
           "sortX": false,
           "sortY": true,
           "swappedAxes": true,
           "textFormat": "",
           "useAggregationsUi": true,
           "valuesOptions": {},
           "version": 2,
           "xAxis": {
            "labels": {
             "enabled": true
            },
            "type": "-"
           },
           "yAxis": [
            {
             "type": "-"
            },
            {
             "opposite": true,
             "type": "-"
            }
           ]
          }
         }
        ]
       },
       "datasetPreviewNameToCmdIdMap": {},
       "diffDeletes": [],
       "diffInserts": [],
       "displayType": "redashChart",
       "error": null,
       "errorDetails": null,
       "errorSummary": null,
       "errorTraceType": null,
       "finishTime": 0,
       "globalVars": {},
       "guid": "",
       "height": "auto",
       "hideCommandCode": false,
       "hideCommandResult": false,
       "iPythonMetadata": null,
       "inputWidgets": {},
       "isLockedInExamMode": false,
       "latestUser": "a user",
       "latestUserId": null,
       "listResultMetadata": null,
       "metadata": {
        "byteLimit": 2048000,
        "implicitDf": true,
        "rowLimit": 10000
       },
       "nuid": "5b35a616-1687-4581-aa93-bb814db10e45",
       "origId": 0,
       "parentHierarchy": [],
       "pivotAggregation": null,
       "pivotColumns": null,
       "position": 16.5,
       "resultDbfsErrorMessage": null,
       "resultDbfsStatus": "INLINED_IN_TREE",
       "results": null,
       "showCommandTitle": false,
       "startTime": 0,
       "state": "finished",
       "streamStates": {},
       "subcommandOptions": {
        "queryPlan": {
         "groups": [
          {
           "column": "Content_Rating",
           "type": "column"
          }
         ],
         "selects": [
          {
           "column": "Content_Rating",
           "type": "column"
          },
          {
           "alias": "column_23a14b9525",
           "args": [
            {
             "column": "count",
             "type": "column"
            }
           ],
           "function": "SUM",
           "type": "function"
          }
         ]
        }
       },
       "submitTime": 0,
       "subtype": "tableResultSubCmd.visualization",
       "tableResultIndex": 0,
       "useConsistentColors": false,
       "version": "CommandV1",
       "width": "auto",
       "workflows": [],
       "xColumns": null,
       "yColumns": null
      }
     },
     "output_type": "display_data"
    }
   ],
   "source": [
    "%sql\n",
    "select distinct Content_Rating, count(Content_Rating) as count from apps group by 1 having count>2 order by count\n"
   ]
  },
  {
   "cell_type": "markdown",
   "metadata": {
    "application/vnd.databricks.v1+cell": {
     "cellMetadata": {
      "byteLimit": 2048000,
      "rowLimit": 10000
     },
     "inputWidgets": {},
     "nuid": "d6c1f9d8-fadb-4294-8bd8-bef62afded70",
     "showTitle": false,
     "title": ""
    }
   },
   "source": [
    "Group by \"Genres\" and calculate the minimum, maximum, and average ratings for apps within each genre."
   ]
  },
  {
   "cell_type": "code",
   "execution_count": 0,
   "metadata": {
    "application/vnd.databricks.v1+cell": {
     "cellMetadata": {
      "byteLimit": 2048000,
      "implicitDf": true,
      "rowLimit": 10000
     },
     "inputWidgets": {},
     "nuid": "90282f90-db80-4844-9930-f2f0ad6176a7",
     "showTitle": false,
     "title": ""
    }
   },
   "outputs": [
    {
     "output_type": "display_data",
     "data": {
      "text/html": [
       "<style scoped>\n",
       "  .table-result-container {\n",
       "    max-height: 300px;\n",
       "    overflow: auto;\n",
       "  }\n",
       "  table, th, td {\n",
       "    border: 1px solid black;\n",
       "    border-collapse: collapse;\n",
       "  }\n",
       "  th, td {\n",
       "    padding: 5px;\n",
       "  }\n",
       "  th {\n",
       "    text-align: left;\n",
       "  }\n",
       "</style><div class='table-result-container'><table class='table-result'><thead style='background-color: white'><tr><th>Genres</th><th>MinRating</th><th>MaxRating</th><th>AvgRating</th><th>TotalApps</th></tr></thead><tbody><tr><td>Events</td><td>2.9</td><td>5.0</td><td>4.44</td><td>45</td></tr><tr><td>Word</td><td>3.8</td><td>4.9</td><td>4.41</td><td>28</td></tr><tr><td>Puzzle</td><td>2.9</td><td>5.0</td><td>4.39</td><td>148</td></tr><tr><td>Art & Design</td><td>3.2</td><td>5.0</td><td>4.35</td><td>65</td></tr><tr><td>Personalization</td><td>2.5</td><td>5.0</td><td>4.34</td><td>314</td></tr><tr><td>Books & Reference</td><td>2.7</td><td>5.0</td><td>4.34</td><td>180</td></tr><tr><td>Education</td><td>1.0</td><td>5.0</td><td>4.31</td><td>563</td></tr><tr><td>Arcade</td><td>3.1</td><td>5.0</td><td>4.31</td><td>223</td></tr><tr><td>Music & Audio</td><td>4.3</td><td>4.3</td><td>4.3</td><td>1</td></tr><tr><td>Board</td><td>2.8</td><td>4.8</td><td>4.3</td><td>60</td></tr><tr><td>Parenting</td><td>2.0</td><td>5.0</td><td>4.3</td><td>50</td></tr><tr><td>Casino</td><td>3.5</td><td>4.7</td><td>4.29</td><td>37</td></tr><tr><td>Action</td><td>3.1</td><td>5.0</td><td>4.29</td><td>375</td></tr><tr><td>Health & Fitness</td><td>1.4</td><td>5.0</td><td>4.28</td><td>298</td></tr><tr><td>Beauty</td><td>3.1</td><td>4.9</td><td>4.28</td><td>42</td></tr><tr><td>Role Playing</td><td>2.8</td><td>4.8</td><td>4.27</td><td>119</td></tr><tr><td>Social</td><td>1.9</td><td>5.0</td><td>4.26</td><td>259</td></tr><tr><td>Shopping</td><td>1.6</td><td>5.0</td><td>4.26</td><td>238</td></tr><tr><td>Strategy</td><td>2.9</td><td>4.8</td><td>4.26</td><td>107</td></tr><tr><td>Music</td><td>3.1</td><td>4.7</td><td>4.25</td><td>24</td></tr><tr><td>Sports</td><td>1.5</td><td>5.0</td><td>4.24</td><td>337</td></tr><tr><td>Weather</td><td>3.3</td><td>4.8</td><td>4.24</td><td>75</td></tr><tr><td>Adventure</td><td>3.4</td><td>4.7</td><td>4.22</td><td>89</td></tr><tr><td>Productivity</td><td>1.0</td><td>5.0</td><td>4.21</td><td>351</td></tr><tr><td>Racing</td><td>3.3</td><td>5.0</td><td>4.2</td><td>114</td></tr><tr><td>House & Home</td><td>2.8</td><td>4.8</td><td>4.2</td><td>76</td></tr><tr><td>Auto & Vehicles</td><td>2.1</td><td>4.9</td><td>4.19</td><td>73</td></tr><tr><td>Photography</td><td>2.0</td><td>5.0</td><td>4.19</td><td>317</td></tr><tr><td>Casual</td><td>2.4</td><td>5.0</td><td>4.19</td><td>262</td></tr><tr><td>Medical</td><td>1.0</td><td>5.0</td><td>4.19</td><td>350</td></tr><tr><td>Libraries & Demo</td><td>3.1</td><td>5.0</td><td>4.18</td><td>65</td></tr><tr><td>Food & Drink</td><td>1.7</td><td>5.0</td><td>4.17</td><td>109</td></tr><tr><td>Simulation</td><td>2.9</td><td>5.0</td><td>4.17</td><td>212</td></tr><tr><td>Comics</td><td>2.8</td><td>5.0</td><td>4.16</td><td>58</td></tr><tr><td>Communication</td><td>1.0</td><td>5.0</td><td>4.16</td><td>329</td></tr><tr><td>Finance</td><td>1.0</td><td>5.0</td><td>4.13</td><td>323</td></tr><tr><td>News & Magazines</td><td>1.7</td><td>5.0</td><td>4.13</td><td>233</td></tr><tr><td>Business</td><td>1.0</td><td>5.0</td><td>4.12</td><td>303</td></tr><tr><td>Travel & Local</td><td>2.2</td><td>5.0</td><td>4.11</td><td>226</td></tr><tr><td>Educational</td><td>1.9</td><td>4.8</td><td>4.11</td><td>103</td></tr><tr><td>Entertainment</td><td>1.6</td><td>5.0</td><td>4.1</td><td>577</td></tr><tr><td>Card</td><td>1.0</td><td>4.9</td><td>4.1</td><td>48</td></tr><tr><td>Lifestyle</td><td>1.5</td><td>5.0</td><td>4.1</td><td>315</td></tr><tr><td>Video Players & Editors</td><td>1.8</td><td>4.9</td><td>4.06</td><td>163</td></tr><tr><td>Tools</td><td>1.0</td><td>5.0</td><td>4.05</td><td>734</td></tr><tr><td>Maps & Navigation</td><td>1.9</td><td>4.9</td><td>4.05</td><td>123</td></tr><tr><td>Trivia</td><td>1.4</td><td>5.0</td><td>4.04</td><td>28</td></tr><tr><td>Dating</td><td>1.0</td><td>5.0</td><td>3.97</td><td>195</td></tr></tbody></table></div>"
      ]
     },
     "metadata": {
      "application/vnd.databricks.v1+output": {
       "addedWidgets": {},
       "aggData": [],
       "aggError": "",
       "aggOverflow": false,
       "aggSchema": [],
       "aggSeriesLimitReached": false,
       "aggType": "",
       "arguments": {},
       "columnCustomDisplayInfos": {},
       "data": [
        [
         "Events",
         2.9,
         5.0,
         4.44,
         45
        ],
        [
         "Word",
         3.8,
         4.9,
         4.41,
         28
        ],
        [
         "Puzzle",
         2.9,
         5.0,
         4.39,
         148
        ],
        [
         "Art & Design",
         3.2,
         5.0,
         4.35,
         65
        ],
        [
         "Personalization",
         2.5,
         5.0,
         4.34,
         314
        ],
        [
         "Books & Reference",
         2.7,
         5.0,
         4.34,
         180
        ],
        [
         "Education",
         1.0,
         5.0,
         4.31,
         563
        ],
        [
         "Arcade",
         3.1,
         5.0,
         4.31,
         223
        ],
        [
         "Music & Audio",
         4.3,
         4.3,
         4.3,
         1
        ],
        [
         "Board",
         2.8,
         4.8,
         4.3,
         60
        ],
        [
         "Parenting",
         2.0,
         5.0,
         4.3,
         50
        ],
        [
         "Casino",
         3.5,
         4.7,
         4.29,
         37
        ],
        [
         "Action",
         3.1,
         5.0,
         4.29,
         375
        ],
        [
         "Health & Fitness",
         1.4,
         5.0,
         4.28,
         298
        ],
        [
         "Beauty",
         3.1,
         4.9,
         4.28,
         42
        ],
        [
         "Role Playing",
         2.8,
         4.8,
         4.27,
         119
        ],
        [
         "Social",
         1.9,
         5.0,
         4.26,
         259
        ],
        [
         "Shopping",
         1.6,
         5.0,
         4.26,
         238
        ],
        [
         "Strategy",
         2.9,
         4.8,
         4.26,
         107
        ],
        [
         "Music",
         3.1,
         4.7,
         4.25,
         24
        ],
        [
         "Sports",
         1.5,
         5.0,
         4.24,
         337
        ],
        [
         "Weather",
         3.3,
         4.8,
         4.24,
         75
        ],
        [
         "Adventure",
         3.4,
         4.7,
         4.22,
         89
        ],
        [
         "Productivity",
         1.0,
         5.0,
         4.21,
         351
        ],
        [
         "Racing",
         3.3,
         5.0,
         4.2,
         114
        ],
        [
         "House & Home",
         2.8,
         4.8,
         4.2,
         76
        ],
        [
         "Auto & Vehicles",
         2.1,
         4.9,
         4.19,
         73
        ],
        [
         "Photography",
         2.0,
         5.0,
         4.19,
         317
        ],
        [
         "Casual",
         2.4,
         5.0,
         4.19,
         262
        ],
        [
         "Medical",
         1.0,
         5.0,
         4.19,
         350
        ],
        [
         "Libraries & Demo",
         3.1,
         5.0,
         4.18,
         65
        ],
        [
         "Food & Drink",
         1.7,
         5.0,
         4.17,
         109
        ],
        [
         "Simulation",
         2.9,
         5.0,
         4.17,
         212
        ],
        [
         "Comics",
         2.8,
         5.0,
         4.16,
         58
        ],
        [
         "Communication",
         1.0,
         5.0,
         4.16,
         329
        ],
        [
         "Finance",
         1.0,
         5.0,
         4.13,
         323
        ],
        [
         "News & Magazines",
         1.7,
         5.0,
         4.13,
         233
        ],
        [
         "Business",
         1.0,
         5.0,
         4.12,
         303
        ],
        [
         "Travel & Local",
         2.2,
         5.0,
         4.11,
         226
        ],
        [
         "Educational",
         1.9,
         4.8,
         4.11,
         103
        ],
        [
         "Entertainment",
         1.6,
         5.0,
         4.1,
         577
        ],
        [
         "Card",
         1.0,
         4.9,
         4.1,
         48
        ],
        [
         "Lifestyle",
         1.5,
         5.0,
         4.1,
         315
        ],
        [
         "Video Players & Editors",
         1.8,
         4.9,
         4.06,
         163
        ],
        [
         "Tools",
         1.0,
         5.0,
         4.05,
         734
        ],
        [
         "Maps & Navigation",
         1.9,
         4.9,
         4.05,
         123
        ],
        [
         "Trivia",
         1.4,
         5.0,
         4.04,
         28
        ],
        [
         "Dating",
         1.0,
         5.0,
         3.97,
         195
        ]
       ],
       "datasetInfos": [],
       "dbfsResultPath": null,
       "isJsonSchema": true,
       "metadata": {},
       "overflow": false,
       "plotOptions": {
        "customPlotOptions": {},
        "displayType": "table",
        "pivotAggregation": null,
        "pivotColumns": null,
        "xColumns": null,
        "yColumns": null
       },
       "removedWidgets": [],
       "schema": [
        {
         "metadata": "{}",
         "name": "Genres",
         "type": "\"string\""
        },
        {
         "metadata": "{}",
         "name": "MinRating",
         "type": "\"float\""
        },
        {
         "metadata": "{}",
         "name": "MaxRating",
         "type": "\"float\""
        },
        {
         "metadata": "{}",
         "name": "AvgRating",
         "type": "\"double\""
        },
        {
         "metadata": "{}",
         "name": "TotalApps",
         "type": "\"long\""
        }
       ],
       "type": "table"
      }
     },
     "output_type": "display_data"
    },
    {
     "output_type": "display_data",
     "data": {
      "text/plain": [
       "Databricks visualization. Run in Databricks to view."
      ]
     },
     "metadata": {
      "application/vnd.databricks.v1.subcommand+json": {
       "baseErrorDetails": null,
       "bindings": {},
       "collapsed": false,
       "command": "%sql WITH q AS (SELECT Genres,\n       round(MIN(Rating),2) AS MinRating,\n       round(MAX(Rating),2) AS MaxRating,\n       round(AVG(Rating),2) AS AvgRating,\n       count(App) as TotalApps\nFROM apps\nGROUP BY Genres\nORDER BY AvgRating DESC) SELECT `Genres`,SUM(`TotalApps`) `column_23a14b9550`,`Genres` FROM q GROUP BY `Genres`",
       "commandTitle": "Visualization 1",
       "commandType": "auto",
       "commandVersion": 0,
       "commentThread": [],
       "commentsVisible": false,
       "contentSha256Hex": null,
       "customPlotOptions": {
        "redashChart": [
         {
          "key": "type",
          "value": "CHART"
         },
         {
          "key": "options",
          "value": {
           "alignYAxesAtZero": true,
           "coefficient": 1,
           "columnConfigurationMap": {
            "series": {
             "column": "Genres",
             "id": "column_23a14b9552"
            },
            "x": {
             "column": "Genres",
             "id": "column_23a14b9547"
            },
            "y": [
             {
              "column": "TotalApps",
              "id": "column_23a14b9550",
              "transform": "SUM"
             }
            ]
           },
           "dateTimeFormat": "DD/MM/YYYY HH:mm",
           "direction": {
            "type": "counterclockwise"
           },
           "error_y": {
            "type": "data",
            "visible": true
           },
           "globalSeriesType": "column",
           "isAggregationOn": true,
           "legend": {
            "enabled": true,
            "placement": "right",
            "traceorder": "normal"
           },
           "missingValuesAsZero": false,
           "numberFormat": "0,0.[00000]",
           "percentFormat": "0[.]00%",
           "series": {
            "error_y": {
             "type": "data",
             "visible": true
            },
            "stacking": null
           },
           "seriesOptions": {
            "column_23a14b9550": {
             "type": "column",
             "yAxis": 0
            }
           },
           "showDataLabels": false,
           "sizemode": "diameter",
           "sortX": true,
           "sortY": true,
           "swappedAxes": false,
           "textFormat": "",
           "useAggregationsUi": true,
           "valuesOptions": {},
           "version": 2,
           "xAxis": {
            "labels": {
             "enabled": true
            },
            "type": "-"
           },
           "yAxis": [
            {
             "type": "-"
            },
            {
             "opposite": true,
             "type": "-"
            }
           ]
          }
         }
        ]
       },
       "datasetPreviewNameToCmdIdMap": {},
       "diffDeletes": [],
       "diffInserts": [],
       "displayType": "redashChart",
       "error": null,
       "errorDetails": null,
       "errorSummary": null,
       "errorTraceType": null,
       "finishTime": 0,
       "globalVars": {},
       "guid": "",
       "height": "auto",
       "hideCommandCode": false,
       "hideCommandResult": false,
       "iPythonMetadata": null,
       "inputWidgets": {},
       "isLockedInExamMode": false,
       "latestUser": "a user",
       "latestUserId": null,
       "listResultMetadata": null,
       "metadata": {
        "byteLimit": 2048000,
        "implicitDf": true,
        "rowLimit": 10000
       },
       "nuid": "d5132d29-13da-4c01-ac1c-83b3ce51925e",
       "origId": 0,
       "parentHierarchy": [],
       "pivotAggregation": null,
       "pivotColumns": null,
       "position": 17.5,
       "resultDbfsErrorMessage": null,
       "resultDbfsStatus": "INLINED_IN_TREE",
       "results": null,
       "showCommandTitle": false,
       "startTime": 0,
       "state": "finished",
       "streamStates": {},
       "subcommandOptions": {
        "queryPlan": {
         "groups": [
          {
           "column": "Genres",
           "type": "column"
          },
          {
           "column": "Genres",
           "type": "column"
          }
         ],
         "selects": [
          {
           "column": "Genres",
           "type": "column"
          },
          {
           "alias": "column_23a14b9550",
           "args": [
            {
             "column": "TotalApps",
             "type": "column"
            }
           ],
           "function": "SUM",
           "type": "function"
          },
          {
           "column": "Genres",
           "type": "column"
          }
         ]
        }
       },
       "submitTime": 0,
       "subtype": "tableResultSubCmd.visualization",
       "tableResultIndex": 0,
       "useConsistentColors": false,
       "version": "CommandV1",
       "width": "auto",
       "workflows": [],
       "xColumns": null,
       "yColumns": null
      }
     },
     "output_type": "display_data"
    }
   ],
   "source": [
    "%sql\n",
    "SELECT Genres,\n",
    "       round(MIN(Rating),2) AS MinRating,\n",
    "       round(MAX(Rating),2) AS MaxRating,\n",
    "       round(AVG(Rating),2) AS AvgRating,\n",
    "       count(App) as TotalApps\n",
    "FROM apps\n",
    "GROUP BY Genres\n",
    "ORDER BY AvgRating DESC;"
   ]
  },
  {
   "cell_type": "markdown",
   "metadata": {
    "application/vnd.databricks.v1+cell": {
     "cellMetadata": {
      "byteLimit": 2048000,
      "rowLimit": 10000
     },
     "inputWidgets": {},
     "nuid": "bd482f2c-41c9-4037-ab3b-8868d42a5ee9",
     "showTitle": false,
     "title": ""
    }
   },
   "source": [
    "Average rating for free vs paid apps:"
   ]
  },
  {
   "cell_type": "code",
   "execution_count": 0,
   "metadata": {
    "application/vnd.databricks.v1+cell": {
     "cellMetadata": {
      "byteLimit": 2048000,
      "implicitDf": true,
      "rowLimit": 10000
     },
     "inputWidgets": {},
     "nuid": "1b3ba94d-67c4-4f22-8bca-21d55427edcf",
     "showTitle": false,
     "title": ""
    }
   },
   "outputs": [
    {
     "output_type": "display_data",
     "data": {
      "text/html": [
       "<style scoped>\n",
       "  .table-result-container {\n",
       "    max-height: 300px;\n",
       "    overflow: auto;\n",
       "  }\n",
       "  table, th, td {\n",
       "    border: 1px solid black;\n",
       "    border-collapse: collapse;\n",
       "  }\n",
       "  th, td {\n",
       "    padding: 5px;\n",
       "  }\n",
       "  th {\n",
       "    text-align: left;\n",
       "  }\n",
       "</style><div class='table-result-container'><table class='table-result'><thead style='background-color: white'><tr><th>Type</th><th>Total_Apps</th><th>AvgRating</th></tr></thead><tbody><tr><td>Free</td><td>8717</td><td>4.19</td></tr><tr><td>Paid</td><td>647</td><td>4.27</td></tr></tbody></table></div>"
      ]
     },
     "metadata": {
      "application/vnd.databricks.v1+output": {
       "addedWidgets": {},
       "aggData": [],
       "aggError": "",
       "aggOverflow": false,
       "aggSchema": [],
       "aggSeriesLimitReached": false,
       "aggType": "",
       "arguments": {},
       "columnCustomDisplayInfos": {},
       "data": [
        [
         "Free",
         8717,
         4.19
        ],
        [
         "Paid",
         647,
         4.27
        ]
       ],
       "datasetInfos": [],
       "dbfsResultPath": null,
       "isJsonSchema": true,
       "metadata": {},
       "overflow": false,
       "plotOptions": {
        "customPlotOptions": {},
        "displayType": "table",
        "pivotAggregation": null,
        "pivotColumns": null,
        "xColumns": null,
        "yColumns": null
       },
       "removedWidgets": [],
       "schema": [
        {
         "metadata": "{}",
         "name": "Type",
         "type": "\"string\""
        },
        {
         "metadata": "{}",
         "name": "Total_Apps",
         "type": "\"long\""
        },
        {
         "metadata": "{}",
         "name": "AvgRating",
         "type": "\"double\""
        }
       ],
       "type": "table"
      }
     },
     "output_type": "display_data"
    },
    {
     "output_type": "display_data",
     "data": {
      "text/plain": [
       "Databricks visualization. Run in Databricks to view."
      ]
     },
     "metadata": {
      "application/vnd.databricks.v1.subcommand+json": {
       "baseErrorDetails": null,
       "bindings": {},
       "collapsed": false,
       "command": "%sql WITH q AS (select Type, count(App) as Total_Apps, round(AVG(Rating), 2) as AvgRating from Apps group by Type) SELECT `Total_Apps`,SUM(`Total_Apps`) `column_23a14b9556` FROM q GROUP BY `Total_Apps`",
       "commandTitle": "Visualization 1",
       "commandType": "auto",
       "commandVersion": 0,
       "commentThread": [],
       "commentsVisible": false,
       "contentSha256Hex": null,
       "customPlotOptions": {
        "redashChart": [
         {
          "key": "type",
          "value": "CHART"
         },
         {
          "key": "options",
          "value": {
           "alignYAxesAtZero": true,
           "coefficient": 1,
           "columnConfigurationMap": {
            "x": {
             "column": "Total_Apps",
             "id": "column_23a14b9569"
            },
            "y": [
             {
              "column": "Total_Apps",
              "id": "column_23a14b9556",
              "transform": "SUM"
             }
            ]
           },
           "dateTimeFormat": "DD/MM/YYYY HH:mm",
           "direction": {
            "type": "counterclockwise"
           },
           "error_y": {
            "type": "data",
            "visible": true
           },
           "globalSeriesType": "pie",
           "isAggregationOn": true,
           "legend": {
            "traceorder": "normal"
           },
           "missingValuesAsZero": true,
           "numberFormat": "0,0.[00000]",
           "percentFormat": "0[.]00%",
           "series": {
            "error_y": {
             "type": "data",
             "visible": true
            },
            "stacking": null
           },
           "seriesOptions": {
            "column_23a14b9556": {
             "name": "Free vs Paid",
             "type": "pie",
             "yAxis": 0
            }
           },
           "showDataLabels": true,
           "sizemode": "diameter",
           "sortX": true,
           "sortY": true,
           "swappedAxes": false,
           "textFormat": "",
           "useAggregationsUi": true,
           "valuesOptions": {},
           "version": 2,
           "xAxis": {
            "labels": {
             "enabled": true
            },
            "type": "-"
           },
           "yAxis": [
            {
             "type": "-"
            },
            {
             "opposite": true,
             "type": "-"
            }
           ]
          }
         }
        ]
       },
       "datasetPreviewNameToCmdIdMap": {},
       "diffDeletes": [],
       "diffInserts": [],
       "displayType": "redashChart",
       "error": null,
       "errorDetails": null,
       "errorSummary": null,
       "errorTraceType": null,
       "finishTime": 0,
       "globalVars": {},
       "guid": "",
       "height": "auto",
       "hideCommandCode": false,
       "hideCommandResult": false,
       "iPythonMetadata": null,
       "inputWidgets": {},
       "isLockedInExamMode": false,
       "latestUser": "a user",
       "latestUserId": null,
       "listResultMetadata": null,
       "metadata": {
        "byteLimit": 2048000,
        "implicitDf": true,
        "rowLimit": 10000
       },
       "nuid": "344f0f15-6cee-4657-b6fc-0db959d75baf",
       "origId": 0,
       "parentHierarchy": [],
       "pivotAggregation": null,
       "pivotColumns": null,
       "position": 18.5,
       "resultDbfsErrorMessage": null,
       "resultDbfsStatus": "INLINED_IN_TREE",
       "results": null,
       "showCommandTitle": false,
       "startTime": 0,
       "state": "finished",
       "streamStates": {},
       "subcommandOptions": {
        "queryPlan": {
         "groups": [
          {
           "column": "Total_Apps",
           "type": "column"
          }
         ],
         "selects": [
          {
           "column": "Total_Apps",
           "type": "column"
          },
          {
           "alias": "column_23a14b9556",
           "args": [
            {
             "column": "Total_Apps",
             "type": "column"
            }
           ],
           "function": "SUM",
           "type": "function"
          }
         ]
        }
       },
       "submitTime": 0,
       "subtype": "tableResultSubCmd.visualization",
       "tableResultIndex": 0,
       "useConsistentColors": false,
       "version": "CommandV1",
       "width": "auto",
       "workflows": [],
       "xColumns": null,
       "yColumns": null
      }
     },
     "output_type": "display_data"
    }
   ],
   "source": [
    "%sql\n",
    "select Type, count(App) as Total_Apps, round(AVG(Rating), 2) as AvgRating from Apps group by Type"
   ]
  },
  {
   "cell_type": "markdown",
   "metadata": {
    "application/vnd.databricks.v1+cell": {
     "cellMetadata": {},
     "inputWidgets": {},
     "nuid": "7b7f1bca-2e99-42b3-9b8f-c9ed290ae27e",
     "showTitle": false,
     "title": ""
    }
   },
   "source": [
    "Top App in each Category based on number of Installs"
   ]
  },
  {
   "cell_type": "code",
   "execution_count": 0,
   "metadata": {
    "application/vnd.databricks.v1+cell": {
     "cellMetadata": {
      "byteLimit": 2048000,
      "implicitDf": true,
      "rowLimit": 10000
     },
     "inputWidgets": {},
     "nuid": "1234668a-6613-40d1-b4b0-7c536fe41a43",
     "showTitle": false,
     "title": ""
    }
   },
   "outputs": [
    {
     "output_type": "display_data",
     "data": {
      "text/html": [
       "<style scoped>\n",
       "  .table-result-container {\n",
       "    max-height: 300px;\n",
       "    overflow: auto;\n",
       "  }\n",
       "  table, th, td {\n",
       "    border: 1px solid black;\n",
       "    border-collapse: collapse;\n",
       "  }\n",
       "  th, td {\n",
       "    padding: 5px;\n",
       "  }\n",
       "  th {\n",
       "    text-align: left;\n",
       "  }\n",
       "</style><div class='table-result-container'><table class='table-result'><thead style='background-color: white'><tr><th>Category</th><th>TopApp</th><th>max(Installs)</th></tr></thead><tbody><tr><td>ART_AND_DESIGN</td><td>Photo Editor & Candy Camera & Grid & ScrapBook</td><td>50000000</td></tr><tr><td>AUTO_AND_VEHICLES</td><td>Monster Truck Stunt 3D 2019</td><td>10000000</td></tr><tr><td>BEAUTY</td><td>Hush - Beauty for Everyone</td><td>10000000</td></tr><tr><td>BOOKS_AND_REFERENCE</td><td>Wattpad 📖 Free Books</td><td>1000000000</td></tr><tr><td>BUSINESS</td><td>Visual Voicemail by MetroPCS</td><td>100000000</td></tr><tr><td>COMICS</td><td>LINE WEBTOON - Free Comics</td><td>10000000</td></tr><tr><td>COMMUNICATION</td><td>Messenger – Text and Video Chat for Free</td><td>1000000000</td></tr><tr><td>DATING</td><td>Moco+ - Chat, Meet People</td><td>10000000</td></tr><tr><td>EDUCATION</td><td>Duolingo: Learn Languages Free</td><td>100000000</td></tr><tr><td>ENTERTAINMENT</td><td>Netflix</td><td>1000000000</td></tr><tr><td>EVENTS</td><td>All Events in City</td><td>5000000</td></tr><tr><td>FAMILY</td><td>YouTube Kids</td><td>1000000000</td></tr><tr><td>FINANCE</td><td>K PLUS</td><td>100000000</td></tr><tr><td>FOOD_AND_DRINK</td><td>McDonald's</td><td>10000000</td></tr><tr><td>GAME</td><td>ROBLOX</td><td>1000000000</td></tr><tr><td>HEALTH_AND_FITNESS</td><td>Home Workout - No Equipment</td><td>500000000</td></tr><tr><td>HOUSE_AND_HOME</td><td>Zillow: Find Houses for Sale & Apartments for Rent</td><td>10000000</td></tr><tr><td>LIBRARIES_AND_DEMO</td><td>Public Digital Library</td><td>10000000</td></tr><tr><td>LIFESTYLE</td><td>Dollhouse Decorating Games</td><td>100000000</td></tr><tr><td>MAPS_AND_NAVIGATION</td><td>Waze - GPS, Maps, Traffic Alerts & Live Navigation</td><td>100000000</td></tr><tr><td>MEDICAL</td><td>Monash Uni Low FODMAP Diet</td><td>5000000</td></tr><tr><td>NEWS_AND_MAGAZINES</td><td>Fox News – Breaking News, Live Video & News Alerts</td><td>1000000000</td></tr><tr><td>PARENTING</td><td>Baby Names</td><td>10000000</td></tr><tr><td>PERSONALIZATION</td><td>Nova Launcher</td><td>100000000</td></tr><tr><td>PHOTOGRAPHY</td><td>TouchNote: Cards & Gifts</td><td>1000000000</td></tr><tr><td>PRODUCTIVITY</td><td>Microsoft Word</td><td>1000000000</td></tr><tr><td>SHOPPING</td><td>Amazon for Tablets</td><td>100000000</td></tr><tr><td>SOCIAL</td><td>Facebook</td><td>1000000000</td></tr><tr><td>SPORTS</td><td>ESPN</td><td>100000000</td></tr><tr><td>TOOLS</td><td>Moto File Manager</td><td>1000000000</td></tr><tr><td>TRAVEL_AND_LOCAL</td><td>Expedia Hotels, Flights & Car Rental Travel Deals</td><td>1000000000</td></tr><tr><td>VIDEO_PLAYERS</td><td>YouTube</td><td>1000000000</td></tr><tr><td>WEATHER</td><td>The Weather Channel: Rain Forecast & Storm Alerts</td><td>50000000</td></tr></tbody></table></div>"
      ]
     },
     "metadata": {
      "application/vnd.databricks.v1+output": {
       "addedWidgets": {},
       "aggData": [],
       "aggError": "",
       "aggOverflow": false,
       "aggSchema": [],
       "aggSeriesLimitReached": false,
       "aggType": "",
       "arguments": {},
       "columnCustomDisplayInfos": {},
       "data": [
        [
         "ART_AND_DESIGN",
         "Photo Editor & Candy Camera & Grid & ScrapBook",
         50000000
        ],
        [
         "AUTO_AND_VEHICLES",
         "Monster Truck Stunt 3D 2019",
         10000000
        ],
        [
         "BEAUTY",
         "Hush - Beauty for Everyone",
         10000000
        ],
        [
         "BOOKS_AND_REFERENCE",
         "Wattpad 📖 Free Books",
         1000000000
        ],
        [
         "BUSINESS",
         "Visual Voicemail by MetroPCS",
         100000000
        ],
        [
         "COMICS",
         "LINE WEBTOON - Free Comics",
         10000000
        ],
        [
         "COMMUNICATION",
         "Messenger – Text and Video Chat for Free",
         1000000000
        ],
        [
         "DATING",
         "Moco+ - Chat, Meet People",
         10000000
        ],
        [
         "EDUCATION",
         "Duolingo: Learn Languages Free",
         100000000
        ],
        [
         "ENTERTAINMENT",
         "Netflix",
         1000000000
        ],
        [
         "EVENTS",
         "All Events in City",
         5000000
        ],
        [
         "FAMILY",
         "YouTube Kids",
         1000000000
        ],
        [
         "FINANCE",
         "K PLUS",
         100000000
        ],
        [
         "FOOD_AND_DRINK",
         "McDonald's",
         10000000
        ],
        [
         "GAME",
         "ROBLOX",
         1000000000
        ],
        [
         "HEALTH_AND_FITNESS",
         "Home Workout - No Equipment",
         500000000
        ],
        [
         "HOUSE_AND_HOME",
         "Zillow: Find Houses for Sale & Apartments for Rent",
         10000000
        ],
        [
         "LIBRARIES_AND_DEMO",
         "Public Digital Library",
         10000000
        ],
        [
         "LIFESTYLE",
         "Dollhouse Decorating Games",
         100000000
        ],
        [
         "MAPS_AND_NAVIGATION",
         "Waze - GPS, Maps, Traffic Alerts & Live Navigation",
         100000000
        ],
        [
         "MEDICAL",
         "Monash Uni Low FODMAP Diet",
         5000000
        ],
        [
         "NEWS_AND_MAGAZINES",
         "Fox News – Breaking News, Live Video & News Alerts",
         1000000000
        ],
        [
         "PARENTING",
         "Baby Names",
         10000000
        ],
        [
         "PERSONALIZATION",
         "Nova Launcher",
         100000000
        ],
        [
         "PHOTOGRAPHY",
         "TouchNote: Cards & Gifts",
         1000000000
        ],
        [
         "PRODUCTIVITY",
         "Microsoft Word",
         1000000000
        ],
        [
         "SHOPPING",
         "Amazon for Tablets",
         100000000
        ],
        [
         "SOCIAL",
         "Facebook",
         1000000000
        ],
        [
         "SPORTS",
         "ESPN",
         100000000
        ],
        [
         "TOOLS",
         "Moto File Manager",
         1000000000
        ],
        [
         "TRAVEL_AND_LOCAL",
         "Expedia Hotels, Flights & Car Rental Travel Deals",
         1000000000
        ],
        [
         "VIDEO_PLAYERS",
         "YouTube",
         1000000000
        ],
        [
         "WEATHER",
         "The Weather Channel: Rain Forecast & Storm Alerts",
         50000000
        ]
       ],
       "datasetInfos": [],
       "dbfsResultPath": null,
       "isJsonSchema": true,
       "metadata": {},
       "overflow": false,
       "plotOptions": {
        "customPlotOptions": {},
        "displayType": "table",
        "pivotAggregation": null,
        "pivotColumns": null,
        "xColumns": null,
        "yColumns": null
       },
       "removedWidgets": [],
       "schema": [
        {
         "metadata": "{}",
         "name": "Category",
         "type": "\"string\""
        },
        {
         "metadata": "{}",
         "name": "TopApp",
         "type": "\"string\""
        },
        {
         "metadata": "{\"__autoGeneratedAlias\":\"true\"}",
         "name": "max(Installs)",
         "type": "\"integer\""
        }
       ],
       "type": "table"
      }
     },
     "output_type": "display_data"
    },
    {
     "output_type": "display_data",
     "data": {
      "text/plain": [
       "Databricks visualization. Run in Databricks to view."
      ]
     },
     "metadata": {
      "application/vnd.databricks.v1.subcommand+json": {
       "baseErrorDetails": null,
       "bindings": {},
       "collapsed": false,
       "command": "%sql WITH q AS (SELECT Category, first_value(App) AS TopApp, max(Installs)\nFROM apps\nGROUP BY Category) SELECT `Category`,SUM(`max(Installs)`) `column_8f6eafdf3` FROM q GROUP BY `Category`",
       "commandTitle": "Visualization 1",
       "commandType": "auto",
       "commandVersion": 0,
       "commentThread": [],
       "commentsVisible": false,
       "contentSha256Hex": null,
       "customPlotOptions": {
        "redashChart": [
         {
          "key": "type",
          "value": "CHART"
         },
         {
          "key": "options",
          "value": {
           "alignYAxesAtZero": true,
           "coefficient": 5,
           "columnConfigurationMap": {
            "x": {
             "column": "Category",
             "id": "column_8f6eafdf1"
            },
            "y": [
             {
              "column": "max(Installs)",
              "id": "column_8f6eafdf3",
              "transform": "SUM"
             }
            ]
           },
           "dateTimeFormat": "DD/MM/YYYY HH:mm",
           "direction": {
            "type": "counterclockwise"
           },
           "error_y": {
            "type": "data",
            "visible": true
           },
           "globalSeriesType": "pie",
           "isAggregationOn": true,
           "legend": {
            "traceorder": "normal"
           },
           "missingValuesAsZero": false,
           "numberFormat": "0,0.[00000]",
           "percentFormat": "0[.]00%",
           "series": {
            "error_y": {
             "type": "data",
             "visible": true
            },
            "stacking": null
           },
           "seriesOptions": {
            "column_8f6eafdf3": {
             "name": "max(Installs)",
             "type": "pie",
             "yAxis": 0
            },
            "max(Installs)": {
             "name": "max(Installs)",
             "type": "pie",
             "yAxis": 0
            }
           },
           "showDataLabels": true,
           "sizemode": "diameter",
           "sortX": true,
           "sortY": true,
           "swappedAxes": false,
           "textFormat": "",
           "useAggregationsUi": true,
           "valuesOptions": {},
           "version": 2,
           "xAxis": {
            "labels": {
             "enabled": true
            },
            "type": "-"
           },
           "yAxis": [
            {
             "type": "-"
            },
            {
             "opposite": true,
             "type": "-"
            }
           ]
          }
         }
        ]
       },
       "datasetPreviewNameToCmdIdMap": {},
       "diffDeletes": [],
       "diffInserts": [],
       "displayType": "redashChart",
       "error": null,
       "errorDetails": null,
       "errorSummary": null,
       "errorTraceType": null,
       "finishTime": 0,
       "globalVars": {},
       "guid": "",
       "height": "auto",
       "hideCommandCode": false,
       "hideCommandResult": false,
       "iPythonMetadata": null,
       "inputWidgets": {},
       "isLockedInExamMode": false,
       "latestUser": "a user",
       "latestUserId": null,
       "listResultMetadata": null,
       "metadata": {},
       "nuid": "20cdef3c-7b38-4c79-a983-e14d3dab84b8",
       "origId": 0,
       "parentHierarchy": [],
       "pivotAggregation": null,
       "pivotColumns": null,
       "position": 21.5,
       "resultDbfsErrorMessage": null,
       "resultDbfsStatus": "INLINED_IN_TREE",
       "results": null,
       "showCommandTitle": false,
       "startTime": 0,
       "state": "input",
       "streamStates": {},
       "subcommandOptions": {
        "queryPlan": {
         "groups": [
          {
           "column": "Category",
           "type": "column"
          }
         ],
         "selects": [
          {
           "column": "Category",
           "type": "column"
          },
          {
           "alias": "column_8f6eafdf3",
           "args": [
            {
             "column": "max(Installs)",
             "type": "column"
            }
           ],
           "function": "SUM",
           "type": "function"
          }
         ]
        }
       },
       "submitTime": 0,
       "subtype": "tableResultSubCmd.visualization",
       "tableResultIndex": 0,
       "useConsistentColors": false,
       "version": "CommandV1",
       "width": "auto",
       "workflows": [],
       "xColumns": null,
       "yColumns": null
      }
     },
     "output_type": "display_data"
    }
   ],
   "source": [
    "%sql\n",
    "SELECT Category, first_value(App) AS TopApp, max(Installs)\n",
    "FROM apps\n",
    "GROUP BY Category"
   ]
  },
  {
   "cell_type": "markdown",
   "metadata": {
    "application/vnd.databricks.v1+cell": {
     "cellMetadata": {
      "byteLimit": 2048000,
      "rowLimit": 10000
     },
     "inputWidgets": {},
     "nuid": "8928f7c8-75ab-4fbc-aa44-8e02ede619ad",
     "showTitle": false,
     "title": ""
    }
   },
   "source": [
    "Exporting App data based on Type in csv files"
   ]
  },
  {
   "cell_type": "code",
   "execution_count": 0,
   "metadata": {
    "application/vnd.databricks.v1+cell": {
     "cellMetadata": {
      "byteLimit": 2048000,
      "rowLimit": 10000
     },
     "inputWidgets": {},
     "nuid": "bef8feb5-0091-47c6-b598-db70c3a99797",
     "showTitle": false,
     "title": ""
    }
   },
   "outputs": [],
   "source": [
    "free_apps_df = df.filter(df.Type == 'Free')\n",
    "paid_apps_df = df.filter(df.Type == 'Paid')\n",
    "\n",
    "free_apps_df.write.format('csv').option('header', 'true').save(\"/FileStore/free_apps.csv\")\n",
    "paid_apps_df.write.format('csv').option('header', 'true').save(\"/FileStore/paid_apps.csv\")"
   ]
  }
 ],
 "metadata": {
  "application/vnd.databricks.v1+notebook": {
   "dashboards": [],
   "environmentMetadata": null,
   "language": "python",
   "notebookMetadata": {
    "mostRecentlyExecutedCommandWithImplicitDF": {
     "commandId": 844468727218050,
     "dataframes": [
      "_sqldf"
     ]
    },
    "pythonIndentUnit": 4
   },
   "notebookName": "Playstore Data Analysis",
   "widgets": {}
  }
 },
 "nbformat": 4,
 "nbformat_minor": 0
}
